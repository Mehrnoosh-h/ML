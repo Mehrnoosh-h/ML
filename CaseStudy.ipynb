{
 "cells": [
  {
   "cell_type": "code",
   "execution_count": 1,
   "id": "7522c7be",
   "metadata": {},
   "outputs": [],
   "source": [
    "import pandas as pd \n",
    "from datetime import datetime, timedelta\n",
    "import matplotlib as plt\n"
   ]
  },
  {
   "cell_type": "code",
   "execution_count": 2,
   "id": "34f8e781",
   "metadata": {},
   "outputs": [],
   "source": [
    "def read_csvs():\n",
    "    gift_claims = pd.read_csv('./giftclaims.csv', index_col=0)\n",
    "    fans = pd.read_csv('./fans.csv', index_col=0)\n",
    "    facilitators = pd.read_csv('./facilitators.csv', index_col=0)\n",
    "    return gift_claims, fans, facilitators\n"
   ]
  },
  {
   "cell_type": "code",
   "execution_count": 3,
   "id": "f821efbf",
   "metadata": {},
   "outputs": [],
   "source": [
    "def merge_datasets(gift_claims, fans, facilitators):\n",
    "    \n",
    "    merged = gift_claims.merge(fans, how='left', left_on='FanID', right_on='FanID')\n",
    "\n",
    "    merged = merged.merge(facilitators, how='left', left_on='FacilitatorID', right_on='ID').drop(columns=['ID'])\n",
    "    return merged\n"
   ]
  },
  {
   "cell_type": "code",
   "execution_count": 4,
   "id": "9ec30885",
   "metadata": {},
   "outputs": [],
   "source": [
    "def weekly_summary(merged, from_date, to_date):\n",
    "    from_date = datetime.strptime(from_date, \"%Y-%m-%d\").date() \n",
    "    to_date = datetime.strptime(to_date, \"%Y-%m-%d\").date()\n",
    "    \n",
    "    weeks = []\n",
    "    date_range = []\n",
    "    sign_ups = []\n",
    "    \n",
    "    for end_week_date in pd.date_range(from_date , to_date + timedelta(days=1), freq=\"7D\"):\n",
    "        weeks.append(end_week_date)\n",
    "\n",
    "    for i in range(len(weeks)-1):\n",
    "        date_range.append(f\"{str(weeks[i].date())} to {str(weeks[i+1].date())}\") \n",
    "        sign_ups.append(len(merged[pd.to_datetime(merged['Date']).between(weeks[i],  weeks[i+1])]))\n",
    "        \n",
    "    report = pd.DataFrame(list(zip(date_range, sign_ups)), columns=[\"weeks\", \"sign_ups\"])    \n",
    "    return report\n"
   ]
  },
  {
   "cell_type": "code",
   "execution_count": 5,
   "id": "a850224b",
   "metadata": {},
   "outputs": [],
   "source": [
    "def engagement(merged):\n",
    "    \n",
    "    first_claimed = merged.sort_values(['FanID','GiftClaimDate']).groupby('FanID').nth(0)\n",
    "\n",
    "    engaged_10 = first_claimed[pd.to_datetime(first_claimed['GiftClaimDate']) - pd.to_datetime(first_claimed['Date']) < pd.Timedelta(days=11)] \n",
    "    fraction = len(engaged_10) / merged.nunique()['FanID']  \n",
    "    return fraction  \n"
   ]
  },
  {
   "cell_type": "code",
   "execution_count": 6,
   "id": "9b3249fb",
   "metadata": {},
   "outputs": [],
   "source": [
    "def find_weekly_rate(merged, from_date, to_date):\n",
    "    from_date = datetime.strptime(from_date, \"%Y-%m-%d\").date() \n",
    "    to_date = datetime.strptime(to_date, \"%Y-%m-%d\").date()\n",
    "    weeks = []\n",
    "    \n",
    "    for end_week_date in pd.date_range(from_date , to_date + timedelta(days=1), freq=\"7D\"):\n",
    "        weeks.append(end_week_date)\n",
    "        rates=[]\n",
    "        \n",
    "    for i in range(len(weeks)-1):\n",
    "   \n",
    "        signed_this_week = merged[pd.to_datetime(merged['Date']).between(weeks[i],  weeks[i+1])]\n",
    "        first_claimed = signed_this_week.sort_values(['FanID','GiftClaimDate']).groupby('FanID').nth(0)\n",
    "        if len(first_claimed) != 0: \n",
    "            engaged_this_week = first_claimed[pd.to_datetime(first_claimed['GiftClaimDate']) - pd.to_datetime(first_claimed['Date']) < pd.Timedelta(days=11)]\n",
    "            rates.append(len(engaged_this_week)/ len(first_claimed))\n",
    "        else:\n",
    "            rates.append(0)\n",
    "            \n",
    "    weekly_rate = pd.DataFrame(list(zip(weeks, rates)), columns=[\"weeks start date\", \"engagement rates\"])    \n",
    "    return weekly_rate      \n",
    "   "
   ]
  },
  {
   "cell_type": "code",
   "execution_count": 7,
   "id": "0c3eab03",
   "metadata": {},
   "outputs": [
    {
     "name": "stdout",
     "output_type": "stream",
     "text": [
      "                       weeks  sign_ups\n",
      "0   2022-02-14 to 2022-02-21     19197\n",
      "1   2022-02-21 to 2022-02-28     17433\n",
      "2   2022-02-28 to 2022-03-07     16011\n",
      "3   2022-03-07 to 2022-03-14     14887\n",
      "4   2022-03-14 to 2022-03-21     15872\n",
      "5   2022-03-21 to 2022-03-28     14027\n",
      "6   2022-03-28 to 2022-04-04     11921\n",
      "7   2022-04-04 to 2022-04-11      9965\n",
      "8   2022-04-11 to 2022-04-18      8407\n",
      "9   2022-04-18 to 2022-04-25      5481\n",
      "10  2022-04-25 to 2022-05-02      3407\n",
      "11  2022-05-02 to 2022-05-09       993\n",
      "12  2022-05-09 to 2022-05-16         0\n",
      "0.29992044550517105\n"
     ]
    },
    {
     "data": {
      "image/png": "[encoded data removed]",
      "text/plain": [
       "<Figure size 432x288 with 1 Axes>"
      ]
     },
     "metadata": {
      "needs_background": "light"
     },
     "output_type": "display_data"
    }
   ],
   "source": [
    "if (__name__ == \"__main__\"):\n",
    "    \n",
    "    #read data \n",
    "    gift_claims, fans, facilitators = read_csvs()\n",
    "    \n",
    "    #question One \n",
    "    merged = merge_datasets(gift_claims, fans, facilitators)\n",
    "    \n",
    "    #question Two\n",
    "    from_date = \"2022-02-14\"\n",
    "    to_date = \"2022-05-15\"\n",
    "    report = weekly_summary(merged, from_date, to_date)\n",
    "    print(report)\n",
    "    #question Three\n",
    "    engaged_fraction = engagement(merged)\n",
    "    print(engaged_fraction)\n",
    "    #question Four\n",
    "    weekly_10_rate = find_weekly_rate(merged, from_date, to_date)\n",
    "    weekly_10_rate.plot(x ='weeks start date', y=\"engagement rates\")\n",
    "    plt.pyplot.show()"
   ]
  },
  {
   "cell_type": "code",
   "execution_count": null,
   "id": "4a10a057",
   "metadata": {},
   "outputs": [],
   "source": []
  }
 ],
 "metadata": {
  "kernelspec": {
   "display_name": "Python 3 (ipykernel)",
   "language": "python",
   "name": "python3"
  },
  "language_info": {
   "codemirror_mode": {
    "name": "ipython",
    "version": 3
   },
   "file_extension": ".py",
   "mimetype": "text/x-python",
   "name": "python",
   "nbconvert_exporter": "python",
   "pygments_lexer": "ipython3",
   "version": "3.9.7"
  }
 },
 "nbformat": 4,
 "nbformat_minor": 5
}
